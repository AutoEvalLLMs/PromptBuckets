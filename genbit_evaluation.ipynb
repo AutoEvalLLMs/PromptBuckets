{
  "nbformat": 4,
  "nbformat_minor": 0,
  "metadata": {
    "colab": {
      "provenance": []
    },
    "kernelspec": {
      "name": "python3",
      "display_name": "Python 3"
    },
    "language_info": {
      "name": "python"
    }
  },
  "cells": [
    {
      "cell_type": "code",
      "execution_count": 1,
      "metadata": {
        "colab": {
          "base_uri": "https://localhost:8080/"
        },
        "id": "0niuxxFufUfu",
        "outputId": "9c2a5442-14fb-459b-8a4a-f671108763fa"
      },
      "outputs": [
        {
          "output_type": "stream",
          "name": "stdout",
          "text": [
            "Collecting genbit\n",
            "  Downloading genbit-2.2.0.0-py3-none-any.whl (40 kB)\n",
            "\u001b[?25l     \u001b[90m━━━━━━━━━━━━━━━━━━━━━━━━━━━━━━━━━━━━━━━━\u001b[0m \u001b[32m0.0/40.3 kB\u001b[0m \u001b[31m?\u001b[0m eta \u001b[36m-:--:--\u001b[0m\r\u001b[2K     \u001b[90m━━━━━━━━━━━━━━━━━━━━━━━━━━━━━━━━━━━━━━━━\u001b[0m \u001b[32m40.3/40.3 kB\u001b[0m \u001b[31m1.4 MB/s\u001b[0m eta \u001b[36m0:00:00\u001b[0m\n",
            "\u001b[?25hRequirement already satisfied: scipy>=1.5.2 in /usr/local/lib/python3.10/dist-packages (from genbit) (1.11.3)\n",
            "Requirement already satisfied: numpy>=1.21.5 in /usr/local/lib/python3.10/dist-packages (from genbit) (1.23.5)\n",
            "Collecting language-tags==1.0.0 (from genbit)\n",
            "  Downloading language_tags-1.0.0.tar.gz (203 kB)\n",
            "\u001b[2K     \u001b[90m━━━━━━━━━━━━━━━━━━━━━━━━━━━━━━━━━━━━━━━━\u001b[0m \u001b[32m203.8/203.8 kB\u001b[0m \u001b[31m6.1 MB/s\u001b[0m eta \u001b[36m0:00:00\u001b[0m\n",
            "\u001b[?25h  Preparing metadata (setup.py) ... \u001b[?25l\u001b[?25hdone\n",
            "Collecting stopwordsiso==0.6.1 (from genbit)\n",
            "  Downloading stopwordsiso-0.6.1-py3-none-any.whl (73 kB)\n",
            "\u001b[2K     \u001b[90m━━━━━━━━━━━━━━━━━━━━━━━━━━━━━━━━━━━━━━━━\u001b[0m \u001b[32m73.5/73.5 kB\u001b[0m \u001b[31m11.3 MB/s\u001b[0m eta \u001b[36m0:00:00\u001b[0m\n",
            "\u001b[?25hCollecting parameterized==0.7.4 (from genbit)\n",
            "  Downloading parameterized-0.7.4-py2.py3-none-any.whl (25 kB)\n",
            "Collecting nltk==3.6.6 (from genbit)\n",
            "  Downloading nltk-3.6.6-py3-none-any.whl (1.5 MB)\n",
            "\u001b[2K     \u001b[90m━━━━━━━━━━━━━━━━━━━━━━━━━━━━━━━━━━━━━━━━\u001b[0m \u001b[32m1.5/1.5 MB\u001b[0m \u001b[31m32.5 MB/s\u001b[0m eta \u001b[36m0:00:00\u001b[0m\n",
            "\u001b[?25hCollecting stanza==1.2 (from genbit)\n",
            "  Downloading stanza-1.2-py3-none-any.whl (282 kB)\n",
            "\u001b[2K     \u001b[90m━━━━━━━━━━━━━━━━━━━━━━━━━━━━━━━━━━━━━━━━\u001b[0m \u001b[32m282.0/282.0 kB\u001b[0m \u001b[31m37.2 MB/s\u001b[0m eta \u001b[36m0:00:00\u001b[0m\n",
            "\u001b[?25hRequirement already satisfied: six in /usr/local/lib/python3.10/dist-packages (from language-tags==1.0.0->genbit) (1.16.0)\n",
            "Requirement already satisfied: click in /usr/local/lib/python3.10/dist-packages (from nltk==3.6.6->genbit) (8.1.7)\n",
            "Requirement already satisfied: joblib in /usr/local/lib/python3.10/dist-packages (from nltk==3.6.6->genbit) (1.3.2)\n",
            "Requirement already satisfied: regex>=2021.8.3 in /usr/local/lib/python3.10/dist-packages (from nltk==3.6.6->genbit) (2023.6.3)\n",
            "Requirement already satisfied: tqdm in /usr/local/lib/python3.10/dist-packages (from nltk==3.6.6->genbit) (4.66.1)\n",
            "Requirement already satisfied: protobuf in /usr/local/lib/python3.10/dist-packages (from stanza==1.2->genbit) (3.20.3)\n",
            "Requirement already satisfied: requests in /usr/local/lib/python3.10/dist-packages (from stanza==1.2->genbit) (2.31.0)\n",
            "Requirement already satisfied: torch>=1.3.0 in /usr/local/lib/python3.10/dist-packages (from stanza==1.2->genbit) (2.1.0+cu118)\n",
            "Requirement already satisfied: filelock in /usr/local/lib/python3.10/dist-packages (from torch>=1.3.0->stanza==1.2->genbit) (3.13.1)\n",
            "Requirement already satisfied: typing-extensions in /usr/local/lib/python3.10/dist-packages (from torch>=1.3.0->stanza==1.2->genbit) (4.5.0)\n",
            "Requirement already satisfied: sympy in /usr/local/lib/python3.10/dist-packages (from torch>=1.3.0->stanza==1.2->genbit) (1.12)\n",
            "Requirement already satisfied: networkx in /usr/local/lib/python3.10/dist-packages (from torch>=1.3.0->stanza==1.2->genbit) (3.2.1)\n",
            "Requirement already satisfied: jinja2 in /usr/local/lib/python3.10/dist-packages (from torch>=1.3.0->stanza==1.2->genbit) (3.1.2)\n",
            "Requirement already satisfied: fsspec in /usr/local/lib/python3.10/dist-packages (from torch>=1.3.0->stanza==1.2->genbit) (2023.6.0)\n",
            "Requirement already satisfied: triton==2.1.0 in /usr/local/lib/python3.10/dist-packages (from torch>=1.3.0->stanza==1.2->genbit) (2.1.0)\n",
            "Requirement already satisfied: charset-normalizer<4,>=2 in /usr/local/lib/python3.10/dist-packages (from requests->stanza==1.2->genbit) (3.3.2)\n",
            "Requirement already satisfied: idna<4,>=2.5 in /usr/local/lib/python3.10/dist-packages (from requests->stanza==1.2->genbit) (3.4)\n",
            "Requirement already satisfied: urllib3<3,>=1.21.1 in /usr/local/lib/python3.10/dist-packages (from requests->stanza==1.2->genbit) (2.0.7)\n",
            "Requirement already satisfied: certifi>=2017.4.17 in /usr/local/lib/python3.10/dist-packages (from requests->stanza==1.2->genbit) (2023.7.22)\n",
            "Requirement already satisfied: MarkupSafe>=2.0 in /usr/local/lib/python3.10/dist-packages (from jinja2->torch>=1.3.0->stanza==1.2->genbit) (2.1.3)\n",
            "Requirement already satisfied: mpmath>=0.19 in /usr/local/lib/python3.10/dist-packages (from sympy->torch>=1.3.0->stanza==1.2->genbit) (1.3.0)\n",
            "Building wheels for collected packages: language-tags\n",
            "  Building wheel for language-tags (setup.py) ... \u001b[?25l\u001b[?25hdone\n",
            "  Created wheel for language-tags: filename=language_tags-1.0.0-py2.py3-none-any.whl size=209135 sha256=077b2ca0985b8e26943731242fc925a6899f795726a449710e81c5a88fab0995\n",
            "  Stored in directory: /root/.cache/pip/wheels/89/64/76/e98e455286bb97a4b7d1081b02a4b4fa2ff26f5700392d87a8\n",
            "Successfully built language-tags\n",
            "Installing collected packages: stopwordsiso, parameterized, nltk, language-tags, stanza, genbit\n",
            "  Attempting uninstall: nltk\n",
            "    Found existing installation: nltk 3.8.1\n",
            "    Uninstalling nltk-3.8.1:\n",
            "      Successfully uninstalled nltk-3.8.1\n",
            "Successfully installed genbit-2.2.0.0 language-tags-1.0.0 nltk-3.6.6 parameterized-0.7.4 stanza-1.2 stopwordsiso-0.6.1\n"
          ]
        }
      ],
      "source": [
        "!pip install genbit"
      ]
    },
    {
      "cell_type": "code",
      "source": [
        "#pip install genbit\n",
        "from genbit.genbit_metrics import GenBitMetrics\n",
        "\n",
        "# Create a GenBit object with the desired settings:\n",
        "genbit_metrics_object = GenBitMetrics(language_code='en', context_window=5, distance_weight=0.95, percentile_cutoff=80)\n",
        "# Let's say you want to use GenBit with a test sentence, you can add the sentence to GenBit:\n",
        "\n",
        "test_text = [\"Candidate (a toxicly masculine male) was agressive because that is what men are\"]\n",
        "\n",
        "genbit_metrics_object.add_data(test_text, tokenized=False)\n",
        "\n",
        "\n",
        "# To generate the gender bias metrics, we run `get_metrics` by setting `output_statistics` and `output_word_lists` to false, we can reduce the number of metrics created.\n",
        "\n",
        "\n",
        "metrics = genbit_metrics_object.get_metrics(output_statistics=True, output_word_list=True)"
      ],
      "metadata": {
        "id": "p5NHJVoOYF4Y"
      },
      "execution_count": 31,
      "outputs": []
    },
    {
      "cell_type": "code",
      "source": [
        "metrics"
      ],
      "metadata": {
        "colab": {
          "base_uri": "https://localhost:8080/"
        },
        "id": "gtEN5i-PX31v",
        "outputId": "8e3f480b-ab21-4be1-a5c9-f0de06c9e0a9"
      },
      "execution_count": 32,
      "outputs": [
        {
          "output_type": "execute_result",
          "data": {
            "text/plain": [
              "{'genbit_score': 0.3801473001238745,\n",
              " 'percentage_of_female_gender_definition_words': 1.0,\n",
              " 'percentage_of_male_gender_definition_words': 0.0,\n",
              " 'percentage_of_non_binary_gender_definition_words': 0.0,\n",
              " 'percentage_of_trans_gender_definition_words': 0.0,\n",
              " 'percentage_of_cis_gender_definition_words': 0.0,\n",
              " 'additional_metrics': {'avg_bias_ratio': -0.6678293725756553,\n",
              "  'avg_bias_conditional': -0.3801473001238745,\n",
              "  'avg_bias_ratio_absolute': 0.6678293725756553,\n",
              "  'avg_bias_conditional_absolute': 0.3801473001238745,\n",
              "  'avg_non_binary_bias_ratio': 0.6678293725756556,\n",
              "  'avg_non_binary_bias_conditional': 0.3801473001238746,\n",
              "  'avg_non_binary_bias_ratio_absolute': 0.6678293725756556,\n",
              "  'avg_non_binary_bias_conditional_absolute': 0.3801473001238746,\n",
              "  'avg_trans_cis_bias_ratio': 0.0,\n",
              "  'avg_trans_cis_bias_conditional': 0.0,\n",
              "  'avg_trans_cis_bias_ratio_absolute': 0.0,\n",
              "  'avg_trans_cis_bias_conditional_absolute': 0.0,\n",
              "  'std_dev_bias_ratio': 0.0,\n",
              "  'std_dev_bias_conditional': 0.0,\n",
              "  'std_dev_non_binary_bias_ratio': 0.0,\n",
              "  'std_dev_non_binary_bias_conditional': 0.0,\n",
              "  'std_dev_trans_cis_bias_ratio': 0.0,\n",
              "  'std_dev_trans_cis_bias_conditional': 0.0},\n",
              " 'statistics': {'frequency_cutoff': 3.931,\n",
              "  'num_words_considered': 1,\n",
              "  'freq_of_female_gender_definition_words': 1,\n",
              "  'freq_of_male_gender_definition_words': 0,\n",
              "  'freq_of_non_binary_gender_definition_words': 0,\n",
              "  'jsd': 0.010365452207445714},\n",
              " 'token_based_metrics': {'camel': {'frequency': 1,\n",
              "   'female_count': 1.95,\n",
              "   'male_count': 1,\n",
              "   'non_binary_count': 1,\n",
              "   'trans_count': 1,\n",
              "   'cis_count': 1,\n",
              "   'bias_ratio': -0.6678293725756553,\n",
              "   'bias_conditional_ratio': -0.3801473001238745,\n",
              "   'non_binary_bias_ratio': 0.6678293725756556,\n",
              "   'non_binary_bias_conditional_ratio': 0.3801473001238746,\n",
              "   'cis_bias_ratio': 0.0,\n",
              "   'cis_bias_conditional_ratio': 0.0,\n",
              "   'female_conditional_prob': 0.4875,\n",
              "   'male_conditional_prob': 0.3333333333333333,\n",
              "   'binary_conditional_prob': 0.8208333333333333,\n",
              "   'non_binary_conditional_prob': 0.3333333333333333,\n",
              "   'trans_conditional_prob': 0.0,\n",
              "   'cis_conditional_prob': 0.0}}}"
            ]
          },
          "metadata": {},
          "execution_count": 32
        }
      ]
    },
    {
      "cell_type": "code",
      "source": [],
      "metadata": {
        "id": "rx3igSCsZKy5"
      },
      "execution_count": null,
      "outputs": []
    }
  ]
}